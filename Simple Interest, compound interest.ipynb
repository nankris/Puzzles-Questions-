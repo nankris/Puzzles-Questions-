{
 "cells": [
  {
   "cell_type": "code",
   "execution_count": 6,
   "metadata": {},
   "outputs": [
    {
     "name": "stdout",
     "output_type": "stream",
     "text": [
      "principle amount10000\n",
      "units of time5\n",
      "percent of interest5\n"
     ]
    }
   ],
   "source": [
    "#simple interest = ptr/100\n",
    "#p=principle amount\n",
    "#t is time (units of time)\n",
    "#r is rate (percent of interest)\n",
    "p=int(input(\"principle amount\"))\n",
    "t=int(input(\"units of time\"))\n",
    "r=int(input(\"percent of interest\"))"
   ]
  },
  {
   "cell_type": "code",
   "execution_count": 7,
   "metadata": {},
   "outputs": [],
   "source": [
    "simpleinterest=(p*t*r)/100"
   ]
  },
  {
   "cell_type": "code",
   "execution_count": 8,
   "metadata": {},
   "outputs": [
    {
     "data": {
      "text/plain": [
       "2500.0"
      ]
     },
     "execution_count": 8,
     "metadata": {},
     "output_type": "execute_result"
    }
   ],
   "source": [
    "simpleinterest"
   ]
  },
  {
   "cell_type": "code",
   "execution_count": 11,
   "metadata": {},
   "outputs": [
    {
     "name": "stdout",
     "output_type": "stream",
     "text": [
      "principle amount1200\n",
      "units of time2\n",
      "percent of interest5.4\n"
     ]
    }
   ],
   "source": [
    "#compound interest\n",
    "#CI=P(1+R/100)^r\n",
    "#P=Principle amount\n",
    "#R is rate\n",
    "#T is time span\n",
    "\n",
    "p=int(input(\"principle amount\"))\n",
    "t=float(input(\"units of time\"))\n",
    "r=float(input(\"percent of interest\"))"
   ]
  },
  {
   "cell_type": "code",
   "execution_count": 13,
   "metadata": {},
   "outputs": [
    {
     "name": "stdout",
     "output_type": "stream",
     "text": [
      "1333.0992\n"
     ]
    }
   ],
   "source": [
    "import math\n",
    "ci=p*pow((1+r/100),t)\n",
    "print(ci)"
   ]
  },
  {
   "cell_type": "code",
   "execution_count": null,
   "metadata": {},
   "outputs": [],
   "source": []
  },
  {
   "cell_type": "code",
   "execution_count": null,
   "metadata": {},
   "outputs": [],
   "source": []
  },
  {
   "cell_type": "code",
   "execution_count": null,
   "metadata": {},
   "outputs": [],
   "source": []
  },
  {
   "cell_type": "code",
   "execution_count": null,
   "metadata": {},
   "outputs": [],
   "source": []
  },
  {
   "cell_type": "code",
   "execution_count": null,
   "metadata": {},
   "outputs": [],
   "source": []
  }
 ],
 "metadata": {
  "kernelspec": {
   "display_name": "Python 3",
   "language": "python",
   "name": "python3"
  },
  "language_info": {
   "codemirror_mode": {
    "name": "ipython",
    "version": 3
   },
   "file_extension": ".py",
   "mimetype": "text/x-python",
   "name": "python",
   "nbconvert_exporter": "python",
   "pygments_lexer": "ipython3",
   "version": "3.6.4"
  }
 },
 "nbformat": 4,
 "nbformat_minor": 2
}
