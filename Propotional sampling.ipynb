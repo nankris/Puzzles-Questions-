{
 "cells": [
  {
   "cell_type": "code",
   "execution_count": 1,
   "metadata": {},
   "outputs": [
    {
     "name": "stdout",
     "output_type": "stream",
     "text": [
      "{0: 0, 5: 1, 6: 0, 10: 1, 13: 4, 27: 3, 28: 6, 45: 9, 66: 13, 69: 8, 72: 17, 79: 17, 100: 20}\n"
     ]
    }
   ],
   "source": [
    "from random import uniform\n",
    "# write your python code here\n",
    "# you can take the above example as sample input for your program to test\n",
    "# it should work for any general input try not to hard code for only given input examples\n",
    "\n",
    "\n",
    "# you can free to change all these codes/structure\n",
    "def pick_a_number_from_list(A):\n",
    "    # your code here for picking an element from with the probability propotional to its magnitude    \n",
    "    A=sorted(A)\n",
    "    #print(A)\n",
    "\n",
    "    lstsum=0\n",
    "    for i in A:\n",
    "        lstsum+=i\n",
    "    #print(lstsum)\n",
    "\n",
    "    dnt=[]\n",
    "    for i in A:\n",
    "        dnt.append(i/lstsum)\n",
    "    #print(dnt)\n",
    "\n",
    "    cumsum=[]\n",
    "    k=0\n",
    "    for i in dnt:\n",
    "        temp=0\n",
    "        for i in range(k+1):\n",
    "            temp+=dnt[i]\n",
    "        cumsum.append(temp)\n",
    "        #print(cumsum)\n",
    "        k+=1\n",
    "    #print(cumsum)\n",
    "\n",
    "    r=uniform(0,1)\n",
    "    #print(\"r value is:\",r)\n",
    "\n",
    "    for i in cumsum:\n",
    "        #print(i)\n",
    "        if r <i:\n",
    "            #print(i)\n",
    "            indx=cumsum.index(i)\n",
    "            #print(cumsum.index(i))\n",
    "            break\n",
    "    #print(indx)\n",
    "    #print(A[indx])    \n",
    "    #.\n",
    "    #.\n",
    "    #.\n",
    "    return A[indx]#selected_random_number\n",
    "\n",
    "def sampling_based_on_magnitued(A):\n",
    "    dct={}\n",
    "    for i in A:\n",
    "        dct[i]=0\n",
    "    for i in range(1,100):\n",
    "        number = pick_a_number_from_list(A)\n",
    "        dct[number]+=1\n",
    "        #print(number)\n",
    "    return dct\n",
    "\n",
    "#A = [0,5,27,6,13,28,100,45,10,79]        \n",
    "A = [0,5,27,6,13,28,100,45,10,66,69,72,79] \n",
    "dct=sampling_based_on_magnitued(A)\n",
    "\n",
    "dctsortdesc={k: v for k, v in sorted(dct.items(), key=lambda item: item[0])}\n",
    "print(dctsortdesc)"
   ]
  },
  {
   "cell_type": "code",
   "execution_count": null,
   "metadata": {},
   "outputs": [],
   "source": []
  },
  {
   "cell_type": "code",
   "execution_count": null,
   "metadata": {},
   "outputs": [],
   "source": []
  },
  {
   "cell_type": "code",
   "execution_count": null,
   "metadata": {},
   "outputs": [],
   "source": []
  },
  {
   "cell_type": "code",
   "execution_count": null,
   "metadata": {},
   "outputs": [],
   "source": []
  }
 ],
 "metadata": {
  "kernelspec": {
   "display_name": "Python 3",
   "language": "python",
   "name": "python3"
  },
  "language_info": {
   "codemirror_mode": {
    "name": "ipython",
    "version": 3
   },
   "file_extension": ".py",
   "mimetype": "text/x-python",
   "name": "python",
   "nbconvert_exporter": "python",
   "pygments_lexer": "ipython3",
   "version": "3.6.4"
  }
 },
 "nbformat": 4,
 "nbformat_minor": 2
}
